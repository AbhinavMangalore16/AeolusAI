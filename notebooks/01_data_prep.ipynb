{
 "cells": [
  {
   "cell_type": "code",
   "execution_count": 1,
   "id": "52eb2516",
   "metadata": {},
   "outputs": [],
   "source": [
    "import pandas as pd\n",
    "import numpy as np\n",
    "import os"
   ]
  },
  {
   "cell_type": "code",
   "execution_count": 8,
   "id": "063ec13d",
   "metadata": {},
   "outputs": [],
   "source": [
    "path = \"../data/raw/training_data.csv\"\n",
    "df = pd.read_csv(path, sep=\",\")"
   ]
  },
  {
   "cell_type": "code",
   "execution_count": 9,
   "id": "6618346a",
   "metadata": {},
   "outputs": [
    {
     "name": "stdout",
     "output_type": "stream",
     "text": [
      "✅ Data loaded. Shape: (64118, 13)\n"
     ]
    },
    {
     "data": {
      "text/html": [
       "<div>\n",
       "<style scoped>\n",
       "    .dataframe tbody tr th:only-of-type {\n",
       "        vertical-align: middle;\n",
       "    }\n",
       "\n",
       "    .dataframe tbody tr th {\n",
       "        vertical-align: top;\n",
       "    }\n",
       "\n",
       "    .dataframe thead th {\n",
       "        text-align: right;\n",
       "    }\n",
       "</style>\n",
       "<table border=\"1\" class=\"dataframe\">\n",
       "  <thead>\n",
       "    <tr style=\"text-align: right;\">\n",
       "      <th></th>\n",
       "      <th>date_time</th>\n",
       "      <th>temperature</th>\n",
       "      <th>humidity</th>\n",
       "      <th>pressure</th>\n",
       "      <th>wind_speed</th>\n",
       "      <th>wind_direction</th>\n",
       "      <th>precipitation</th>\n",
       "      <th>cloud_coverage</th>\n",
       "      <th>weather_condition</th>\n",
       "      <th>city</th>\n",
       "      <th>latitude</th>\n",
       "      <th>longitude</th>\n",
       "      <th>country</th>\n",
       "    </tr>\n",
       "  </thead>\n",
       "  <tbody>\n",
       "    <tr>\n",
       "      <th>0</th>\n",
       "      <td>2024-05-16 13:15</td>\n",
       "      <td>26.6</td>\n",
       "      <td>24</td>\n",
       "      <td>1012.0</td>\n",
       "      <td>13.3</td>\n",
       "      <td>338</td>\n",
       "      <td>0.0</td>\n",
       "      <td>30</td>\n",
       "      <td>Partly Cloudy</td>\n",
       "      <td>Kabul</td>\n",
       "      <td>34.52</td>\n",
       "      <td>69.18</td>\n",
       "      <td>Afghanistan</td>\n",
       "    </tr>\n",
       "    <tr>\n",
       "      <th>1</th>\n",
       "      <td>2024-05-16 10:45</td>\n",
       "      <td>19.0</td>\n",
       "      <td>94</td>\n",
       "      <td>1012.0</td>\n",
       "      <td>11.2</td>\n",
       "      <td>320</td>\n",
       "      <td>0.1</td>\n",
       "      <td>75</td>\n",
       "      <td>Partly cloudy</td>\n",
       "      <td>Tirana</td>\n",
       "      <td>41.33</td>\n",
       "      <td>19.82</td>\n",
       "      <td>Albania</td>\n",
       "    </tr>\n",
       "    <tr>\n",
       "      <th>2</th>\n",
       "      <td>2024-05-16 09:45</td>\n",
       "      <td>23.0</td>\n",
       "      <td>29</td>\n",
       "      <td>1011.0</td>\n",
       "      <td>15.1</td>\n",
       "      <td>280</td>\n",
       "      <td>0.0</td>\n",
       "      <td>0</td>\n",
       "      <td>Sunny</td>\n",
       "      <td>Algiers</td>\n",
       "      <td>36.76</td>\n",
       "      <td>3.05</td>\n",
       "      <td>Algeria</td>\n",
       "    </tr>\n",
       "    <tr>\n",
       "      <th>3</th>\n",
       "      <td>2024-05-16 10:45</td>\n",
       "      <td>6.3</td>\n",
       "      <td>61</td>\n",
       "      <td>1007.0</td>\n",
       "      <td>11.9</td>\n",
       "      <td>215</td>\n",
       "      <td>0.3</td>\n",
       "      <td>100</td>\n",
       "      <td>Light drizzle</td>\n",
       "      <td>Andorra La Vella</td>\n",
       "      <td>42.50</td>\n",
       "      <td>1.52</td>\n",
       "      <td>Andorra</td>\n",
       "    </tr>\n",
       "    <tr>\n",
       "      <th>4</th>\n",
       "      <td>2024-05-16 09:45</td>\n",
       "      <td>26.0</td>\n",
       "      <td>89</td>\n",
       "      <td>1011.0</td>\n",
       "      <td>13.0</td>\n",
       "      <td>150</td>\n",
       "      <td>0.0</td>\n",
       "      <td>50</td>\n",
       "      <td>Partly cloudy</td>\n",
       "      <td>Luanda</td>\n",
       "      <td>-8.84</td>\n",
       "      <td>13.23</td>\n",
       "      <td>Angola</td>\n",
       "    </tr>\n",
       "  </tbody>\n",
       "</table>\n",
       "</div>"
      ],
      "text/plain": [
       "          date_time  temperature  humidity  pressure  wind_speed  \\\n",
       "0  2024-05-16 13:15         26.6        24    1012.0        13.3   \n",
       "1  2024-05-16 10:45         19.0        94    1012.0        11.2   \n",
       "2  2024-05-16 09:45         23.0        29    1011.0        15.1   \n",
       "3  2024-05-16 10:45          6.3        61    1007.0        11.9   \n",
       "4  2024-05-16 09:45         26.0        89    1011.0        13.0   \n",
       "\n",
       "   wind_direction  precipitation  cloud_coverage weather_condition  \\\n",
       "0             338            0.0              30     Partly Cloudy   \n",
       "1             320            0.1              75     Partly cloudy   \n",
       "2             280            0.0               0             Sunny   \n",
       "3             215            0.3             100     Light drizzle   \n",
       "4             150            0.0              50     Partly cloudy   \n",
       "\n",
       "               city  latitude  longitude      country  \n",
       "0             Kabul     34.52      69.18  Afghanistan  \n",
       "1            Tirana     41.33      19.82      Albania  \n",
       "2           Algiers     36.76       3.05      Algeria  \n",
       "3  Andorra La Vella     42.50       1.52      Andorra  \n",
       "4            Luanda     -8.84      13.23       Angola  "
      ]
     },
     "execution_count": 9,
     "metadata": {},
     "output_type": "execute_result"
    }
   ],
   "source": [
    "print(\"✅ Data loaded. Shape:\", df.shape)\n",
    "df.head()"
   ]
  },
  {
   "cell_type": "code",
   "execution_count": 10,
   "id": "8e9b743f",
   "metadata": {},
   "outputs": [
    {
     "name": "stdout",
     "output_type": "stream",
     "text": [
      "🧼 Null values:\n",
      " date_time            0\n",
      "temperature          0\n",
      "humidity             0\n",
      "pressure             0\n",
      "wind_speed           0\n",
      "wind_direction       0\n",
      "precipitation        0\n",
      "cloud_coverage       0\n",
      "weather_condition    0\n",
      "city                 0\n",
      "latitude             0\n",
      "longitude            0\n",
      "country              0\n",
      "dtype: int64\n"
     ]
    }
   ],
   "source": [
    "df[\"date_time\"] = pd.to_datetime(df[\"date_time\"], errors=\"coerce\")\n",
    "\n",
    "print(\"🧼 Null values:\\n\", df.isnull().sum())\n",
    "\n",
    "df.dropna(inplace=True)"
   ]
  },
  {
   "cell_type": "code",
   "execution_count": 11,
   "id": "cb4d8f19",
   "metadata": {},
   "outputs": [],
   "source": [
    "df[\"hour\"] = df[\"date_time\"].dt.hour\n",
    "df[\"day\"] = df[\"date_time\"].dt.day\n",
    "df[\"weekday\"] = df[\"date_time\"].dt.weekday\n",
    "df[\"month\"] = df[\"date_time\"].dt.month"
   ]
  },
  {
   "cell_type": "code",
   "execution_count": 12,
   "id": "2edbde08",
   "metadata": {},
   "outputs": [],
   "source": [
    "df[\"city\"] = df[\"city\"].str.title()\n",
    "df[\"country\"] = df[\"country\"].str.title()\n",
    "df[\"weather_condition\"] = df[\"weather_condition\"].str.lower().str.strip()"
   ]
  },
  {
   "cell_type": "code",
   "execution_count": 13,
   "id": "05c9ec5a",
   "metadata": {},
   "outputs": [
    {
     "name": "stdout",
     "output_type": "stream",
     "text": [
      "✅ Cleaned data saved to '../data/processed/training_data_p1.csv'\n"
     ]
    }
   ],
   "source": [
    "os.makedirs(\"../data/processed\", exist_ok=True)\n",
    "df.to_csv(\"../data/processed/training_data_p1.csv\", index=False)\n",
    "\n",
    "print(\"✅ Cleaned data saved to '../data/processed/training_data_p1.csv'\")"
   ]
  },
  {
   "cell_type": "code",
   "execution_count": null,
   "id": "31f7825e",
   "metadata": {},
   "outputs": [],
   "source": []
  }
 ],
 "metadata": {
  "kernelspec": {
   "display_name": "venv",
   "language": "python",
   "name": "python3"
  },
  "language_info": {
   "codemirror_mode": {
    "name": "ipython",
    "version": 3
   },
   "file_extension": ".py",
   "mimetype": "text/x-python",
   "name": "python",
   "nbconvert_exporter": "python",
   "pygments_lexer": "ipython3",
   "version": "3.10.0"
  }
 },
 "nbformat": 4,
 "nbformat_minor": 5
}
